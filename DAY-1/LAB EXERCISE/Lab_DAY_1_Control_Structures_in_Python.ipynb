{
  "nbformat": 4,
  "nbformat_minor": 0,
  "metadata": {
    "colab": {
      "provenance": [],
      "toc_visible": true
    },
    "kernelspec": {
      "name": "python3",
      "display_name": "Python 3"
    },
    "language_info": {
      "name": "python"
    }
  },
  "cells": [
    {
      "cell_type": "markdown",
      "source": [
        "# **Control Structures in Python**\n",
        "\n",
        "---\n",
        "\n",
        "Control structures are fundamental in programming as they determine the flow of execution in a program. In Python, control structures include conditional statements and loops."
      ],
      "metadata": {
        "id": "X2NT-UlAdQiV"
      }
    },
    {
      "cell_type": "markdown",
      "source": [
        "# **1. Conditional Statements (if, elif, else)**\n",
        "\n",
        "---\n",
        "\n",
        "Conditional statements allow you to execute different blocks of code based on conditions.\n",
        "\n",
        "Syntax:\n",
        "\n",
        "if condition:\n",
        "    # Code block executed if condition is True\n",
        "elif another_condition:\n",
        "    # Code block executed if another_condition is True\n",
        "else:\n",
        "    # Code block executed if no condition is True\n"
      ],
      "metadata": {
        "id": "42t2kuCidXHr"
      }
    },
    {
      "cell_type": "markdown",
      "source": [],
      "metadata": {
        "id": "dYQvgVBRdbHW"
      }
    },
    {
      "cell_type": "markdown",
      "source": [
        "**Example 1: Basic if statement**\n",
        "\n",
        "---\n",
        "\n"
      ],
      "metadata": {
        "id": "IwvMTf5sdqM8"
      }
    },
    {
      "cell_type": "code",
      "source": [
        "age = 18\n",
        "if age >= 18:\n",
        "    print(\"You are eligible to vote.\")\n"
      ],
      "metadata": {
        "colab": {
          "base_uri": "https://localhost:8080/"
        },
        "id": "ZRmt-TLedr7m",
        "outputId": "4e91a42a-793c-40e7-934a-b0db9238ad16"
      },
      "execution_count": 1,
      "outputs": [
        {
          "output_type": "stream",
          "name": "stdout",
          "text": [
            "You are eligible to vote.\n"
          ]
        }
      ]
    },
    {
      "cell_type": "markdown",
      "source": [
        "**Example 2: Using if and else**\n",
        "\n",
        "---\n",
        "\n"
      ],
      "metadata": {
        "id": "Jafh1tqHd6hX"
      }
    },
    {
      "cell_type": "code",
      "source": [
        "number = 10\n",
        "if number % 2 == 0:\n",
        "    print(\"Even number\")\n",
        "else:\n",
        "    print(\"Odd number\")"
      ],
      "metadata": {
        "colab": {
          "base_uri": "https://localhost:8080/"
        },
        "id": "9vjApyLud8GN",
        "outputId": "6dfcb665-b966-47b3-884e-603cc4d7900e"
      },
      "execution_count": 2,
      "outputs": [
        {
          "output_type": "stream",
          "name": "stdout",
          "text": [
            "Even number\n"
          ]
        }
      ]
    },
    {
      "cell_type": "markdown",
      "source": [
        "**Example 3: Using if, elif, and else**\n",
        "\n",
        "---\n",
        "\n"
      ],
      "metadata": {
        "id": "j4qFoYMBeA2F"
      }
    },
    {
      "cell_type": "code",
      "source": [
        "marks = 65\n",
        "if marks >= 90:\n",
        "    print(\"Grade: A\")\n",
        "elif marks >= 75:\n",
        "    print(\"Grade: B\")\n",
        "elif marks >= 50:\n",
        "    print(\"Grade: C\")\n",
        "else:\n",
        "    print(\"Grade: F\")"
      ],
      "metadata": {
        "colab": {
          "base_uri": "https://localhost:8080/"
        },
        "id": "NB81d40XeFHF",
        "outputId": "907cb2c3-2063-469e-a72e-2274ee1f9b93"
      },
      "execution_count": 4,
      "outputs": [
        {
          "output_type": "stream",
          "name": "stdout",
          "text": [
            "Grade: C\n"
          ]
        }
      ]
    },
    {
      "cell_type": "markdown",
      "source": [
        "**Example 4: Nested if statements**\n",
        "\n",
        "---\n",
        "\n"
      ],
      "metadata": {
        "id": "tk01iyOZeP3j"
      }
    },
    {
      "cell_type": "code",
      "source": [
        "x = 30\n",
        "if x > 5:\n",
        "    print(\"x is greater than 5\")\n",
        "    if x < 20:\n",
        "        print(\"x is also less than 20\")\n",
        "    else:\n",
        "      print(\"x is greater than 5 but is not less than 20\")\n",
        "else:\n",
        "  print(\"x is neither greater than 5 nor in bettwen 5 and 20\")"
      ],
      "metadata": {
        "colab": {
          "base_uri": "https://localhost:8080/"
        },
        "id": "KrnkRhqxeVWk",
        "outputId": "e73d3201-dd83-40a1-8246-8250cd682d55"
      },
      "execution_count": 9,
      "outputs": [
        {
          "output_type": "stream",
          "name": "stdout",
          "text": [
            "x is greater than 5\n",
            "x is greater than 5 but is not less than 20\n"
          ]
        }
      ]
    },
    {
      "cell_type": "markdown",
      "source": [
        "# **2.3 while Loop**\n",
        "\n",
        "---\n",
        "\n",
        "\n",
        "A while loop runs as long as a given condition is True.\n",
        "\n",
        "Syntax:\n",
        "\n",
        "while condition:\n",
        "    # Code block to execute\n"
      ],
      "metadata": {
        "id": "JvMbqpvuh7r1"
      }
    },
    {
      "cell_type": "markdown",
      "source": [
        "**Example 1: Basic while loop**\n",
        "\n",
        "---\n",
        "\n"
      ],
      "metadata": {
        "id": "EvpG-KVhiST1"
      }
    },
    {
      "cell_type": "code",
      "source": [
        "count = 1\n",
        "while count <= 5:\n",
        "    print(count)\n",
        "    count += 1  # Increment count\n"
      ],
      "metadata": {
        "colab": {
          "base_uri": "https://localhost:8080/"
        },
        "id": "BHwCJTCFiAou",
        "outputId": "13db787a-eb82-4bf3-bf90-a8a933e8fcf9"
      },
      "execution_count": 10,
      "outputs": [
        {
          "output_type": "stream",
          "name": "stdout",
          "text": [
            "1\n",
            "2\n",
            "3\n",
            "4\n",
            "5\n"
          ]
        }
      ]
    },
    {
      "cell_type": "markdown",
      "source": [
        "# **Example 2: Using while with user input**\n",
        "\n",
        "---\n",
        "\n"
      ],
      "metadata": {
        "id": "dFJ9IQiAiWjo"
      }
    },
    {
      "cell_type": "code",
      "source": [
        "password = \"\"\n",
        "i=0\n",
        "while True:\n",
        "    if i<3:\n",
        "      if password == \"secret\":\n",
        "        print(\"Access granted!\")\n",
        "        break\n",
        "      print(\"Wrong pwd try again\")\n",
        "      password = input(\"Enter password: \")\n",
        "      i=i+1\n",
        "    else:\n",
        "      print(\"Access Denied!\")\n",
        "      break\n",
        "\n",
        "\n"
      ],
      "metadata": {
        "colab": {
          "base_uri": "https://localhost:8080/"
        },
        "id": "tKtNyT4MiYSM",
        "outputId": "9a9562eb-fc34-4426-d772-e6256ea4c505"
      },
      "execution_count": 17,
      "outputs": [
        {
          "output_type": "stream",
          "name": "stdout",
          "text": [
            "Wrong pwd try again\n",
            "Enter password: secret\n",
            "Access granted!\n"
          ]
        }
      ]
    },
    {
      "cell_type": "markdown",
      "source": [
        "**Example 3: Infinite loop (use with caution!)**\n",
        "\n",
        "---\n",
        "\n"
      ],
      "metadata": {
        "id": "COXb7HJOj8lJ"
      }
    },
    {
      "cell_type": "code",
      "source": [
        "while True:\n",
        "    print(\"This is an infinite loop\")  # Will run forever unless stopped\n"
      ],
      "metadata": {
        "id": "XdJPl7dekAIA"
      },
      "execution_count": null,
      "outputs": []
    },
    {
      "cell_type": "markdown",
      "source": [
        "# **3. break and continue Statements in Loops**\n",
        "\n",
        "---\n",
        "\n",
        "•\tbreak: Exits the loop immediately.\n",
        "\n",
        "•\tcontinue: Skips the rest of the current iteration and moves to the next iteration.\n",
        "\n"
      ],
      "metadata": {
        "id": "eA_M6WYmkibL"
      }
    },
    {
      "cell_type": "markdown",
      "source": [
        "**Example 1: Using break**\n",
        "\n",
        "---\n",
        "\n"
      ],
      "metadata": {
        "id": "7UgJL2xDk3QJ"
      }
    },
    {
      "cell_type": "code",
      "source": [
        "for num in range(10):\n",
        "    if num == 5:\n",
        "        break  # Stops the loop when num is 5\n",
        "    print(num)\n"
      ],
      "metadata": {
        "colab": {
          "base_uri": "https://localhost:8080/"
        },
        "id": "KHsmw3YmlAcd",
        "outputId": "bda0c308-1f17-4c90-d50d-9a71e06d884a"
      },
      "execution_count": 21,
      "outputs": [
        {
          "output_type": "stream",
          "name": "stdout",
          "text": [
            "0\n",
            "1\n",
            "2\n",
            "3\n",
            "4\n"
          ]
        }
      ]
    },
    {
      "cell_type": "markdown",
      "source": [
        "**Example 2: Using continue**\n",
        "\n",
        "---\n",
        "\n"
      ],
      "metadata": {
        "id": "yUl1cZfvkuUR"
      }
    },
    {
      "cell_type": "code",
      "source": [
        "for num in range(5):\n",
        "    if num == 2:\n",
        "        continue  # Skips printing 2\n",
        "    print(num)\n"
      ],
      "metadata": {
        "colab": {
          "base_uri": "https://localhost:8080/"
        },
        "id": "XRBvemiNkw0J",
        "outputId": "80024e9f-f804-49e7-b0ff-483bafd53dda"
      },
      "execution_count": 20,
      "outputs": [
        {
          "output_type": "stream",
          "name": "stdout",
          "text": [
            "0\n",
            "1\n",
            "3\n",
            "4\n"
          ]
        }
      ]
    }
  ]
}