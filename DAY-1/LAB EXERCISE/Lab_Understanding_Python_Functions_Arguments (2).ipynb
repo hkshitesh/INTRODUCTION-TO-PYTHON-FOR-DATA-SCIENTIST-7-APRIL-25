{
  "nbformat": 4,
  "nbformat_minor": 0,
  "metadata": {
    "colab": {
      "provenance": [],
      "toc_visible": true
    },
    "kernelspec": {
      "name": "python3",
      "display_name": "Python 3"
    },
    "language_info": {
      "name": "python"
    }
  },
  "cells": [
    {
      "cell_type": "code",
      "execution_count": null,
      "metadata": {
        "id": "eP8pVpDatRkf"
      },
      "outputs": [],
      "source": []
    },
    {
      "cell_type": "markdown",
      "source": [
        "# **Understanding Python Functions Arguments**\n",
        "\n",
        "---\n",
        "\n"
      ],
      "metadata": {
        "id": "UArZ7-IUtZPe"
      }
    },
    {
      "cell_type": "markdown",
      "source": [
        "# **1. Function Arguments**\n",
        "\n",
        "---\n",
        "\n",
        "\n",
        "**Definition:**\n",
        "\n",
        "Arguments are values passed to a function when calling it. Python supports multiple types of arguments.\n",
        "\n",
        "Example:\n"
      ],
      "metadata": {
        "id": "QPgSrpWOteLf"
      }
    },
    {
      "cell_type": "code",
      "source": [
        "def show():\n",
        "  print(\"This is show function\")"
      ],
      "metadata": {
        "id": "rXaxbHnstj95"
      },
      "execution_count": null,
      "outputs": []
    },
    {
      "cell_type": "code",
      "source": [
        "show()"
      ],
      "metadata": {
        "id": "VcXDq9uftsFC"
      },
      "execution_count": null,
      "outputs": []
    },
    {
      "cell_type": "code",
      "source": [
        "def show(message):\n",
        "  print(message)"
      ],
      "metadata": {
        "id": "6U6acEaJtutw"
      },
      "execution_count": 3,
      "outputs": []
    },
    {
      "cell_type": "code",
      "source": [
        "show(\"Welcome to Python\")"
      ],
      "metadata": {
        "colab": {
          "base_uri": "https://localhost:8080/"
        },
        "id": "IE0QlHEOt0uK",
        "outputId": "4d3b3b42-5925-4e27-ec60-8469a49324c9"
      },
      "execution_count": 4,
      "outputs": [
        {
          "output_type": "stream",
          "name": "stdout",
          "text": [
            "Welcome to Python\n"
          ]
        }
      ]
    },
    {
      "cell_type": "code",
      "source": [],
      "metadata": {
        "id": "RFSftVDrt_mu"
      },
      "execution_count": null,
      "outputs": []
    },
    {
      "cell_type": "markdown",
      "source": [
        "# **2. Positional Arguments**\n",
        "\n",
        "---\n",
        "\n",
        "\n",
        "Definition:\n",
        "\n",
        "Positional arguments are matched to function parameters based on their position in the function call.\n",
        "\n",
        "Example:\n"
      ],
      "metadata": {
        "id": "VzbHYYtOuDw-"
      }
    },
    {
      "cell_type": "code",
      "source": [
        "def person_info(name, age):\n",
        "    print(f\"Name: {name}, Age: {age}\")"
      ],
      "metadata": {
        "id": "Z2E4Hp2nuGvU"
      },
      "execution_count": 5,
      "outputs": []
    },
    {
      "cell_type": "code",
      "source": [
        "person_info(\"Alice\", 25)  # Correct"
      ],
      "metadata": {
        "colab": {
          "base_uri": "https://localhost:8080/"
        },
        "id": "tZUsIDJkubU0",
        "outputId": "733edb57-2904-4dc5-c4f7-a2edbb641e9d"
      },
      "execution_count": 6,
      "outputs": [
        {
          "output_type": "stream",
          "name": "stdout",
          "text": [
            "Name: Alice, Age: 25\n"
          ]
        }
      ]
    },
    {
      "cell_type": "code",
      "source": [
        "person_info(25, \"Alice\")  # Incorrect order"
      ],
      "metadata": {
        "colab": {
          "base_uri": "https://localhost:8080/"
        },
        "id": "K6DS-IF2ua4j",
        "outputId": "e7a10bd4-5dc8-4361-87c8-423e0c5e6df9"
      },
      "execution_count": 7,
      "outputs": [
        {
          "output_type": "stream",
          "name": "stdout",
          "text": [
            "Name: 25, Age: Alice\n"
          ]
        }
      ]
    },
    {
      "cell_type": "code",
      "source": [
        "person_info(age=25, name=\"Alice\")"
      ],
      "metadata": {
        "colab": {
          "base_uri": "https://localhost:8080/"
        },
        "id": "ANKpV9nhuqGk",
        "outputId": "61a91b74-3b7d-4e66-af8d-1bcb36ce8c90"
      },
      "execution_count": 8,
      "outputs": [
        {
          "output_type": "stream",
          "name": "stdout",
          "text": [
            "Name: Alice, Age: 25\n"
          ]
        }
      ]
    },
    {
      "cell_type": "markdown",
      "source": [
        "# **3. Default Arguments**\n",
        "\n",
        "---\n",
        "\n",
        "\n",
        "\n",
        "**Definition:**\n",
        "\n",
        "Default arguments have predefined values that are used if no value is provided during the function call.\n",
        "\n",
        "Example:\n"
      ],
      "metadata": {
        "id": "E-YlILxevK4u"
      }
    },
    {
      "cell_type": "code",
      "source": [
        "def my_sum(a=60,b=50,c=30):\n",
        "  return a+b+c"
      ],
      "metadata": {
        "id": "7jXrQXbNvO45"
      },
      "execution_count": 9,
      "outputs": []
    },
    {
      "cell_type": "code",
      "source": [
        "my_sum(10,20,40)"
      ],
      "metadata": {
        "colab": {
          "base_uri": "https://localhost:8080/"
        },
        "id": "0JducAw9vYgx",
        "outputId": "798c4fb7-d381-4b14-f56e-b2a67903225b"
      },
      "execution_count": 10,
      "outputs": [
        {
          "output_type": "execute_result",
          "data": {
            "text/plain": [
              "70"
            ]
          },
          "metadata": {},
          "execution_count": 10
        }
      ]
    },
    {
      "cell_type": "code",
      "source": [
        "my_sum(20,40)"
      ],
      "metadata": {
        "colab": {
          "base_uri": "https://localhost:8080/"
        },
        "id": "lA8manBzvdA8",
        "outputId": "a3b023c8-32db-44bc-854f-4f1527410224"
      },
      "execution_count": 12,
      "outputs": [
        {
          "output_type": "execute_result",
          "data": {
            "text/plain": [
              "90"
            ]
          },
          "metadata": {},
          "execution_count": 12
        }
      ]
    },
    {
      "cell_type": "code",
      "source": [
        "my_sum(30)"
      ],
      "metadata": {
        "colab": {
          "base_uri": "https://localhost:8080/"
        },
        "id": "zP60vtqkvgP7",
        "outputId": "c8b94c21-f0f1-40fb-bea4-8d3fa83b5b92"
      },
      "execution_count": 13,
      "outputs": [
        {
          "output_type": "execute_result",
          "data": {
            "text/plain": [
              "110"
            ]
          },
          "metadata": {},
          "execution_count": 13
        }
      ]
    },
    {
      "cell_type": "code",
      "source": [
        "my_sum()"
      ],
      "metadata": {
        "colab": {
          "base_uri": "https://localhost:8080/"
        },
        "id": "fbyzuTlyvhZK",
        "outputId": "7a1f9c0f-baa7-4496-ce50-2c65f37bb748"
      },
      "execution_count": 14,
      "outputs": [
        {
          "output_type": "execute_result",
          "data": {
            "text/plain": [
              "140"
            ]
          },
          "metadata": {},
          "execution_count": 14
        }
      ]
    },
    {
      "cell_type": "markdown",
      "source": [
        "# 4. **args (Variable-Length Positional Arguments)**\n",
        "---\n",
        "\n",
        "\n",
        "Definition:\n",
        "\n",
        "*args allows a function to accept multiple positional arguments as a tuple.\n",
        "\n",
        "Example:\n"
      ],
      "metadata": {
        "id": "PHMZPnLZxBgt"
      }
    },
    {
      "cell_type": "code",
      "source": [
        "def sum_numbers(*args):\n",
        "  total=0\n",
        "  for val in args:\n",
        "    total = total+val\n",
        "  print(\"Sum:\", total)"
      ],
      "metadata": {
        "id": "QH-awOn-wsJi"
      },
      "execution_count": 24,
      "outputs": []
    },
    {
      "cell_type": "code",
      "source": [
        "sum_numbers(1, 2, 3)"
      ],
      "metadata": {
        "colab": {
          "base_uri": "https://localhost:8080/"
        },
        "id": "aSi7enQBw0lf",
        "outputId": "1e3c8f92-607e-4dc0-d91b-cb4bf188efab"
      },
      "execution_count": 25,
      "outputs": [
        {
          "output_type": "stream",
          "name": "stdout",
          "text": [
            "Sum: 6\n"
          ]
        }
      ]
    },
    {
      "cell_type": "code",
      "source": [
        "sum_numbers(10, 20, 30, 40,50,60,55,69)"
      ],
      "metadata": {
        "colab": {
          "base_uri": "https://localhost:8080/"
        },
        "id": "UaPWavTR2w5n",
        "outputId": "d70d36b3-47f2-46e9-8938-11b51aadc1ba"
      },
      "execution_count": 26,
      "outputs": [
        {
          "output_type": "stream",
          "name": "stdout",
          "text": [
            "Sum: 334\n"
          ]
        }
      ]
    },
    {
      "cell_type": "markdown",
      "source": [
        "# 5. kwargs (Variable-Length Keyword Arguments)\n",
        "\n",
        "---\n",
        "\n",
        "\n",
        "Definition:\n",
        "\n",
        "**kwargs allows passing multiple keyword arguments, which are stored as a dictionary.\n",
        "\n",
        "Example:\n"
      ],
      "metadata": {
        "id": "AaiYuCytxm42"
      }
    },
    {
      "cell_type": "markdown",
      "source": [],
      "metadata": {
        "id": "GLOlOWPTyXTE"
      }
    },
    {
      "cell_type": "code",
      "source": [
        "def person_details(**kwargs):\n",
        "    for key, value in kwargs.items():\n",
        "        print(f\"{key}: {value}\")\n"
      ],
      "metadata": {
        "id": "27oA_ybxxqU9"
      },
      "execution_count": 27,
      "outputs": []
    },
    {
      "cell_type": "code",
      "source": [
        "person_details(name=\"Alice\", city=\"New York\")\n",
        "# Output:\n",
        "# name: Alice\n",
        "# city: New York\n"
      ],
      "metadata": {
        "colab": {
          "base_uri": "https://localhost:8080/"
        },
        "id": "ktHrA23hxuTr",
        "outputId": "b3cf3fde-6f07-46fa-8dca-bb854fdd5976"
      },
      "execution_count": 28,
      "outputs": [
        {
          "output_type": "stream",
          "name": "stdout",
          "text": [
            "name: Alice\n",
            "city: New York\n"
          ]
        }
      ]
    },
    {
      "cell_type": "code",
      "source": [
        "person_details(name=\"Alice\",age=32, city=\"New York\")"
      ],
      "metadata": {
        "colab": {
          "base_uri": "https://localhost:8080/"
        },
        "id": "evIzCFIOx4JN",
        "outputId": "62aacc4d-2f1f-4b93-be28-9a9738de7828"
      },
      "execution_count": 29,
      "outputs": [
        {
          "output_type": "stream",
          "name": "stdout",
          "text": [
            "name: Alice\n",
            "age: 32\n",
            "city: New York\n"
          ]
        }
      ]
    },
    {
      "cell_type": "code",
      "source": [
        "person_details(name=\"Alice\",age=32,salary=2000, city=\"New York\")"
      ],
      "metadata": {
        "colab": {
          "base_uri": "https://localhost:8080/"
        },
        "id": "RrOE3rZ2x8PV",
        "outputId": "12dbe152-345d-4c0f-df50-1f64e79b41b1"
      },
      "execution_count": 30,
      "outputs": [
        {
          "output_type": "stream",
          "name": "stdout",
          "text": [
            "name: Alice\n",
            "age: 32\n",
            "salary: 2000\n",
            "city: New York\n"
          ]
        }
      ]
    },
    {
      "cell_type": "markdown",
      "source": [
        "# **Correct Order of Arguments in Function Definition**\n",
        "\n",
        "---\n",
        "\n"
      ],
      "metadata": {
        "id": "WwFfdawkz8N8"
      }
    },
    {
      "cell_type": "code",
      "source": [
        "def my_function(pos1, pos2, default1=\"default\", *args, **kwargs):\n",
        "    print(f\"Positional: {pos1}, {pos2}\")\n",
        "    print(f\"Default: {default1}\")\n",
        "    print(f\"Args: {args}\")\n",
        "    print(f\"Kwargs: {kwargs}\")\n",
        "    return args"
      ],
      "metadata": {
        "id": "Y-arh0CA0QrY"
      },
      "execution_count": 36,
      "outputs": []
    },
    {
      "cell_type": "code",
      "source": [
        "x=my_function(\"A\", \"B\", \"C\", \"D\", \"E\", key1=\"value1\", key2=\"value2\")"
      ],
      "metadata": {
        "colab": {
          "base_uri": "https://localhost:8080/"
        },
        "id": "UFozVBzE5yqp",
        "outputId": "d3aa6fe8-e00e-4554-8597-30522b722c02"
      },
      "execution_count": 37,
      "outputs": [
        {
          "output_type": "stream",
          "name": "stdout",
          "text": [
            "Positional: A, B\n",
            "Default: C\n",
            "Args: ('D', 'E')\n",
            "Kwargs: {'key1': 'value1', 'key2': 'value2'}\n"
          ]
        }
      ]
    },
    {
      "cell_type": "code",
      "source": [
        "x=list(x)"
      ],
      "metadata": {
        "id": "Fw5PEWDW53rA"
      },
      "execution_count": 39,
      "outputs": []
    },
    {
      "cell_type": "code",
      "source": [
        "x"
      ],
      "metadata": {
        "colab": {
          "base_uri": "https://localhost:8080/"
        },
        "id": "9zrkf12l6B6z",
        "outputId": "b0564885-54a9-40b4-c572-eb24d15c2e2a"
      },
      "execution_count": 40,
      "outputs": [
        {
          "output_type": "execute_result",
          "data": {
            "text/plain": [
              "['D', 'E']"
            ]
          },
          "metadata": {},
          "execution_count": 40
        }
      ]
    },
    {
      "cell_type": "code",
      "source": [
        "my_function(\"A\", \"B\", \"C\", \"D\", \"E\", key1=\"value1\", key2=\"value2\")"
      ],
      "metadata": {
        "colab": {
          "base_uri": "https://localhost:8080/"
        },
        "id": "ix1GyBuN5CKQ",
        "outputId": "94e97b97-12bf-448d-c975-0c693bbc33ef"
      },
      "execution_count": 32,
      "outputs": [
        {
          "output_type": "stream",
          "name": "stdout",
          "text": [
            "Positional: A, B\n",
            "Default: C\n",
            "Args: ('D', 'E')\n",
            "Kwargs: {'key1': 'value1', 'key2': 'value2'}\n"
          ]
        }
      ]
    },
    {
      "cell_type": "code",
      "source": [
        "my_function(\"A\",\"B\")"
      ],
      "metadata": {
        "colab": {
          "base_uri": "https://localhost:8080/"
        },
        "id": "4tlqfzpq0UqN",
        "outputId": "19dd8bd8-3573-4d1d-d771-d8fabd3710a4"
      },
      "execution_count": 33,
      "outputs": [
        {
          "output_type": "stream",
          "name": "stdout",
          "text": [
            "Positional: A, B\n",
            "Default: default\n",
            "Args: ()\n",
            "Kwargs: {}\n"
          ]
        }
      ]
    },
    {
      "cell_type": "code",
      "source": [
        "my_function(\"A\", \"B\", \"C\", \"D\", \"E\", \"T\",\"U\", key1=\"value1\", key2=\"value2\")"
      ],
      "metadata": {
        "colab": {
          "base_uri": "https://localhost:8080/"
        },
        "id": "UKh-iPQ45LP9",
        "outputId": "6f12ef10-8b26-4adc-db84-144062319a15"
      },
      "execution_count": 35,
      "outputs": [
        {
          "output_type": "stream",
          "name": "stdout",
          "text": [
            "Positional: A, B\n",
            "Default: C\n",
            "Args: ('D', 'E', 'T', 'U')\n",
            "Kwargs: {'key1': 'value1', 'key2': 'value2'}\n"
          ]
        }
      ]
    }
  ]
}